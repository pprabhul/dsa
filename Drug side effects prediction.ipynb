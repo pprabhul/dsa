{
 "cells": [
  {
   "cell_type": "code",
   "execution_count": 2,
   "metadata": {},
   "outputs": [],
   "source": [
    "import numpy as np\n",
    "import pandas as pd\n",
    "import matplotlib.pyplot as plt\n",
    "import seaborn as sns"
   ]
  },
  {
   "cell_type": "markdown",
   "metadata": {},
   "source": [
    "Import Data"
   ]
  },
  {
   "cell_type": "code",
   "execution_count": 3,
   "metadata": {},
   "outputs": [],
   "source": [
    "##importing Dataset\n",
    "Data=pd.read_excel(r'C:\\Users\\HP\\Desktop\\webmd.xlsx')\n"
   ]
  },
  {
   "cell_type": "markdown",
   "metadata": {},
   "source": [
    "Analsising Data set"
   ]
  },
  {
   "cell_type": "code",
   "execution_count": 4,
   "metadata": {},
   "outputs": [
    {
     "data": {
      "text/html": [
       "<div>\n",
       "<style scoped>\n",
       "    .dataframe tbody tr th:only-of-type {\n",
       "        vertical-align: middle;\n",
       "    }\n",
       "\n",
       "    .dataframe tbody tr th {\n",
       "        vertical-align: top;\n",
       "    }\n",
       "\n",
       "    .dataframe thead th {\n",
       "        text-align: right;\n",
       "    }\n",
       "</style>\n",
       "<table border=\"1\" class=\"dataframe\">\n",
       "  <thead>\n",
       "    <tr style=\"text-align: right;\">\n",
       "      <th></th>\n",
       "      <th>Ages</th>\n",
       "      <th>Condition</th>\n",
       "      <th>Date</th>\n",
       "      <th>Drug</th>\n",
       "      <th>DrugId</th>\n",
       "      <th>EaseofUse</th>\n",
       "      <th>Effectiveness</th>\n",
       "      <th>Reviews</th>\n",
       "      <th>Satisfaction</th>\n",
       "      <th>Sex</th>\n",
       "      <th>Sides</th>\n",
       "      <th>UsefulCount</th>\n",
       "    </tr>\n",
       "  </thead>\n",
       "  <tbody>\n",
       "    <tr>\n",
       "      <th>0</th>\n",
       "      <td>75-85</td>\n",
       "      <td>Stuffy Nose</td>\n",
       "      <td>9/21/2014</td>\n",
       "      <td>25dph-7.5peh</td>\n",
       "      <td>146724</td>\n",
       "      <td>5</td>\n",
       "      <td>5</td>\n",
       "      <td>I'm a retired physician and of all the meds I ...</td>\n",
       "      <td>5</td>\n",
       "      <td>Male</td>\n",
       "      <td>Drowsiness,  dizziness ,  dry mouth /nose/thro...</td>\n",
       "      <td>0</td>\n",
       "    </tr>\n",
       "    <tr>\n",
       "      <th>1</th>\n",
       "      <td>25-34</td>\n",
       "      <td>Cold Symptoms</td>\n",
       "      <td>1/13/2011</td>\n",
       "      <td>25dph-7.5peh</td>\n",
       "      <td>146724</td>\n",
       "      <td>5</td>\n",
       "      <td>5</td>\n",
       "      <td>cleared me right up even with my throat hurtin...</td>\n",
       "      <td>5</td>\n",
       "      <td>Female</td>\n",
       "      <td>Drowsiness,  dizziness ,  dry mouth /nose/thro...</td>\n",
       "      <td>1</td>\n",
       "    </tr>\n",
       "    <tr>\n",
       "      <th>2</th>\n",
       "      <td>65-74</td>\n",
       "      <td>Other</td>\n",
       "      <td>7/16/2012</td>\n",
       "      <td>warfarin (bulk) 100 % powder</td>\n",
       "      <td>144731</td>\n",
       "      <td>2</td>\n",
       "      <td>3</td>\n",
       "      <td>why did my PTINR go from a normal of 2.5 to ov...</td>\n",
       "      <td>3</td>\n",
       "      <td>Female</td>\n",
       "      <td>NaN</td>\n",
       "      <td>0</td>\n",
       "    </tr>\n",
       "    <tr>\n",
       "      <th>3</th>\n",
       "      <td>75-85</td>\n",
       "      <td>Other</td>\n",
       "      <td>9/23/2010</td>\n",
       "      <td>warfarin (bulk) 100 % powder</td>\n",
       "      <td>144731</td>\n",
       "      <td>2</td>\n",
       "      <td>2</td>\n",
       "      <td>FALLING AND DON'T REALISE IT</td>\n",
       "      <td>1</td>\n",
       "      <td>Female</td>\n",
       "      <td>NaN</td>\n",
       "      <td>0</td>\n",
       "    </tr>\n",
       "    <tr>\n",
       "      <th>4</th>\n",
       "      <td>35-44</td>\n",
       "      <td>Other</td>\n",
       "      <td>2009-06-01 00:00:00</td>\n",
       "      <td>warfarin (bulk) 100 % powder</td>\n",
       "      <td>144731</td>\n",
       "      <td>1</td>\n",
       "      <td>1</td>\n",
       "      <td>My grandfather was prescribed this medication ...</td>\n",
       "      <td>1</td>\n",
       "      <td>Male</td>\n",
       "      <td>NaN</td>\n",
       "      <td>1</td>\n",
       "    </tr>\n",
       "    <tr>\n",
       "      <th>...</th>\n",
       "      <td>...</td>\n",
       "      <td>...</td>\n",
       "      <td>...</td>\n",
       "      <td>...</td>\n",
       "      <td>...</td>\n",
       "      <td>...</td>\n",
       "      <td>...</td>\n",
       "      <td>...</td>\n",
       "      <td>...</td>\n",
       "      <td>...</td>\n",
       "      <td>...</td>\n",
       "      <td>...</td>\n",
       "    </tr>\n",
       "    <tr>\n",
       "      <th>362801</th>\n",
       "      <td>55-64</td>\n",
       "      <td>Stop Smoking</td>\n",
       "      <td>11/14/2008</td>\n",
       "      <td>chantix</td>\n",
       "      <td>144470</td>\n",
       "      <td>5</td>\n",
       "      <td>5</td>\n",
       "      <td>I took the whole 12 weeks.I could have stopped...</td>\n",
       "      <td>5</td>\n",
       "      <td>Female</td>\n",
       "      <td>Nausea ,  headache ,  vomiting , drowsiness, g...</td>\n",
       "      <td>2</td>\n",
       "    </tr>\n",
       "    <tr>\n",
       "      <th>362802</th>\n",
       "      <td>NaN</td>\n",
       "      <td>Other</td>\n",
       "      <td>11/14/2008</td>\n",
       "      <td>chantix</td>\n",
       "      <td>144470</td>\n",
       "      <td>2</td>\n",
       "      <td>3</td>\n",
       "      <td>My dad strated taking Chantix about 1 month ag...</td>\n",
       "      <td>1</td>\n",
       "      <td>NaN</td>\n",
       "      <td>Nausea ,  headache ,  vomiting , drowsiness, g...</td>\n",
       "      <td>16</td>\n",
       "    </tr>\n",
       "    <tr>\n",
       "      <th>362803</th>\n",
       "      <td>25-34</td>\n",
       "      <td>Stop Smoking</td>\n",
       "      <td>11/13/2008</td>\n",
       "      <td>chantix</td>\n",
       "      <td>144470</td>\n",
       "      <td>2</td>\n",
       "      <td>4</td>\n",
       "      <td>As long as I was on chantix, I didn't smoke.  ...</td>\n",
       "      <td>2</td>\n",
       "      <td>Female</td>\n",
       "      <td>Nausea ,  headache ,  vomiting , drowsiness, g...</td>\n",
       "      <td>3</td>\n",
       "    </tr>\n",
       "    <tr>\n",
       "      <th>362804</th>\n",
       "      <td>55-64</td>\n",
       "      <td>Stop Smoking</td>\n",
       "      <td>11/13/2008</td>\n",
       "      <td>chantix</td>\n",
       "      <td>144470</td>\n",
       "      <td>5</td>\n",
       "      <td>5</td>\n",
       "      <td>Started this medication Oct 5th 2008. Haven't ...</td>\n",
       "      <td>5</td>\n",
       "      <td>Male</td>\n",
       "      <td>Nausea ,  headache ,  vomiting , drowsiness, g...</td>\n",
       "      <td>1</td>\n",
       "    </tr>\n",
       "    <tr>\n",
       "      <th>362805</th>\n",
       "      <td>45-54</td>\n",
       "      <td>Stop Smoking</td>\n",
       "      <td>2008-12-11 00:00:00</td>\n",
       "      <td>chantix</td>\n",
       "      <td>144470</td>\n",
       "      <td>4</td>\n",
       "      <td>5</td>\n",
       "      <td>One year ago, I tried Chantix and had to stop ...</td>\n",
       "      <td>5</td>\n",
       "      <td>Female</td>\n",
       "      <td>Nausea ,  headache ,  vomiting , drowsiness, g...</td>\n",
       "      <td>3</td>\n",
       "    </tr>\n",
       "  </tbody>\n",
       "</table>\n",
       "<p>362806 rows × 12 columns</p>\n",
       "</div>"
      ],
      "text/plain": [
       "         Ages      Condition                 Date  \\\n",
       "0       75-85    Stuffy Nose            9/21/2014   \n",
       "1       25-34  Cold Symptoms            1/13/2011   \n",
       "2       65-74          Other            7/16/2012   \n",
       "3       75-85          Other            9/23/2010   \n",
       "4       35-44          Other  2009-06-01 00:00:00   \n",
       "...       ...            ...                  ...   \n",
       "362801  55-64   Stop Smoking           11/14/2008   \n",
       "362802    NaN          Other           11/14/2008   \n",
       "362803  25-34   Stop Smoking           11/13/2008   \n",
       "362804  55-64   Stop Smoking           11/13/2008   \n",
       "362805  45-54   Stop Smoking  2008-12-11 00:00:00   \n",
       "\n",
       "                                Drug  DrugId  EaseofUse  Effectiveness  \\\n",
       "0                       25dph-7.5peh  146724          5              5   \n",
       "1                       25dph-7.5peh  146724          5              5   \n",
       "2       warfarin (bulk) 100 % powder  144731          2              3   \n",
       "3       warfarin (bulk) 100 % powder  144731          2              2   \n",
       "4       warfarin (bulk) 100 % powder  144731          1              1   \n",
       "...                              ...     ...        ...            ...   \n",
       "362801                       chantix  144470          5              5   \n",
       "362802                       chantix  144470          2              3   \n",
       "362803                       chantix  144470          2              4   \n",
       "362804                       chantix  144470          5              5   \n",
       "362805                       chantix  144470          4              5   \n",
       "\n",
       "                                                  Reviews  Satisfaction  \\\n",
       "0       I'm a retired physician and of all the meds I ...             5   \n",
       "1       cleared me right up even with my throat hurtin...             5   \n",
       "2       why did my PTINR go from a normal of 2.5 to ov...             3   \n",
       "3                            FALLING AND DON'T REALISE IT             1   \n",
       "4       My grandfather was prescribed this medication ...             1   \n",
       "...                                                   ...           ...   \n",
       "362801  I took the whole 12 weeks.I could have stopped...             5   \n",
       "362802  My dad strated taking Chantix about 1 month ag...             1   \n",
       "362803  As long as I was on chantix, I didn't smoke.  ...             2   \n",
       "362804  Started this medication Oct 5th 2008. Haven't ...             5   \n",
       "362805  One year ago, I tried Chantix and had to stop ...             5   \n",
       "\n",
       "           Sex                                              Sides  UsefulCount  \n",
       "0         Male  Drowsiness,  dizziness ,  dry mouth /nose/thro...            0  \n",
       "1       Female  Drowsiness,  dizziness ,  dry mouth /nose/thro...            1  \n",
       "2       Female                                                NaN            0  \n",
       "3       Female                                                NaN            0  \n",
       "4         Male                                                NaN            1  \n",
       "...        ...                                                ...          ...  \n",
       "362801  Female  Nausea ,  headache ,  vomiting , drowsiness, g...            2  \n",
       "362802     NaN  Nausea ,  headache ,  vomiting , drowsiness, g...           16  \n",
       "362803  Female  Nausea ,  headache ,  vomiting , drowsiness, g...            3  \n",
       "362804    Male  Nausea ,  headache ,  vomiting , drowsiness, g...            1  \n",
       "362805  Female  Nausea ,  headache ,  vomiting , drowsiness, g...            3  \n",
       "\n",
       "[362806 rows x 12 columns]"
      ]
     },
     "execution_count": 4,
     "metadata": {},
     "output_type": "execute_result"
    }
   ],
   "source": [
    "Data"
   ]
  },
  {
   "cell_type": "code",
   "execution_count": 5,
   "metadata": {},
   "outputs": [
    {
     "data": {
      "text/plain": [
       "(362806, 12)"
      ]
     },
     "execution_count": 5,
     "metadata": {},
     "output_type": "execute_result"
    }
   ],
   "source": [
    "Data.shape"
   ]
  },
  {
   "cell_type": "code",
   "execution_count": 6,
   "metadata": {},
   "outputs": [
    {
     "data": {
      "text/plain": [
       "Ages                 12\n",
       "Condition          1805\n",
       "Date               4524\n",
       "Drug               7093\n",
       "DrugId             6572\n",
       "EaseofUse             7\n",
       "Effectiveness         7\n",
       "Reviews          250158\n",
       "Satisfaction          7\n",
       "Sex                   2\n",
       "Sides              1650\n",
       "UsefulCount         148\n",
       "dtype: int64"
      ]
     },
     "execution_count": 6,
     "metadata": {},
     "output_type": "execute_result"
    }
   ],
   "source": [
    "Data.nunique()"
   ]
  },
  {
   "cell_type": "code",
   "execution_count": 7,
   "metadata": {},
   "outputs": [
    {
     "data": {
      "text/plain": [
       "Ages             object\n",
       "Condition        object\n",
       "Date             object\n",
       "Drug             object\n",
       "DrugId            int64\n",
       "EaseofUse         int64\n",
       "Effectiveness     int64\n",
       "Reviews          object\n",
       "Satisfaction      int64\n",
       "Sex              object\n",
       "Sides            object\n",
       "UsefulCount       int64\n",
       "dtype: object"
      ]
     },
     "execution_count": 7,
     "metadata": {},
     "output_type": "execute_result"
    }
   ],
   "source": [
    "Data.dtypes"
   ]
  },
  {
   "cell_type": "code",
   "execution_count": 8,
   "metadata": {},
   "outputs": [
    {
     "data": {
      "text/html": [
       "<div>\n",
       "<style scoped>\n",
       "    .dataframe tbody tr th:only-of-type {\n",
       "        vertical-align: middle;\n",
       "    }\n",
       "\n",
       "    .dataframe tbody tr th {\n",
       "        vertical-align: top;\n",
       "    }\n",
       "\n",
       "    .dataframe thead th {\n",
       "        text-align: right;\n",
       "    }\n",
       "</style>\n",
       "<table border=\"1\" class=\"dataframe\">\n",
       "  <thead>\n",
       "    <tr style=\"text-align: right;\">\n",
       "      <th></th>\n",
       "      <th>DrugId</th>\n",
       "      <th>EaseofUse</th>\n",
       "      <th>Effectiveness</th>\n",
       "      <th>Satisfaction</th>\n",
       "      <th>UsefulCount</th>\n",
       "    </tr>\n",
       "  </thead>\n",
       "  <tbody>\n",
       "    <tr>\n",
       "      <th>count</th>\n",
       "      <td>362806.000000</td>\n",
       "      <td>362806.000000</td>\n",
       "      <td>362806.000000</td>\n",
       "      <td>362806.000000</td>\n",
       "      <td>362806.000000</td>\n",
       "    </tr>\n",
       "    <tr>\n",
       "      <th>mean</th>\n",
       "      <td>36879.370774</td>\n",
       "      <td>4.019829</td>\n",
       "      <td>3.532061</td>\n",
       "      <td>3.135408</td>\n",
       "      <td>6.744916</td>\n",
       "    </tr>\n",
       "    <tr>\n",
       "      <th>std</th>\n",
       "      <td>52624.412971</td>\n",
       "      <td>1.317711</td>\n",
       "      <td>1.455961</td>\n",
       "      <td>1.611106</td>\n",
       "      <td>9.324240</td>\n",
       "    </tr>\n",
       "    <tr>\n",
       "      <th>min</th>\n",
       "      <td>1.000000</td>\n",
       "      <td>1.000000</td>\n",
       "      <td>1.000000</td>\n",
       "      <td>1.000000</td>\n",
       "      <td>0.000000</td>\n",
       "    </tr>\n",
       "    <tr>\n",
       "      <th>25%</th>\n",
       "      <td>4896.000000</td>\n",
       "      <td>3.000000</td>\n",
       "      <td>3.000000</td>\n",
       "      <td>1.000000</td>\n",
       "      <td>1.000000</td>\n",
       "    </tr>\n",
       "    <tr>\n",
       "      <th>50%</th>\n",
       "      <td>9548.000000</td>\n",
       "      <td>5.000000</td>\n",
       "      <td>4.000000</td>\n",
       "      <td>3.000000</td>\n",
       "      <td>4.000000</td>\n",
       "    </tr>\n",
       "    <tr>\n",
       "      <th>75%</th>\n",
       "      <td>63522.000000</td>\n",
       "      <td>5.000000</td>\n",
       "      <td>5.000000</td>\n",
       "      <td>5.000000</td>\n",
       "      <td>9.000000</td>\n",
       "    </tr>\n",
       "    <tr>\n",
       "      <th>max</th>\n",
       "      <td>178546.000000</td>\n",
       "      <td>10.000000</td>\n",
       "      <td>10.000000</td>\n",
       "      <td>10.000000</td>\n",
       "      <td>255.000000</td>\n",
       "    </tr>\n",
       "  </tbody>\n",
       "</table>\n",
       "</div>"
      ],
      "text/plain": [
       "              DrugId      EaseofUse  Effectiveness   Satisfaction  \\\n",
       "count  362806.000000  362806.000000  362806.000000  362806.000000   \n",
       "mean    36879.370774       4.019829       3.532061       3.135408   \n",
       "std     52624.412971       1.317711       1.455961       1.611106   \n",
       "min         1.000000       1.000000       1.000000       1.000000   \n",
       "25%      4896.000000       3.000000       3.000000       1.000000   \n",
       "50%      9548.000000       5.000000       4.000000       3.000000   \n",
       "75%     63522.000000       5.000000       5.000000       5.000000   \n",
       "max    178546.000000      10.000000      10.000000      10.000000   \n",
       "\n",
       "         UsefulCount  \n",
       "count  362806.000000  \n",
       "mean        6.744916  \n",
       "std         9.324240  \n",
       "min         0.000000  \n",
       "25%         1.000000  \n",
       "50%         4.000000  \n",
       "75%         9.000000  \n",
       "max       255.000000  "
      ]
     },
     "execution_count": 8,
     "metadata": {},
     "output_type": "execute_result"
    }
   ],
   "source": [
    "Data.describe()"
   ]
  },
  {
   "cell_type": "markdown",
   "metadata": {},
   "source": [
    "Checking Null values"
   ]
  },
  {
   "cell_type": "code",
   "execution_count": 9,
   "metadata": {},
   "outputs": [
    {
     "data": {
      "text/plain": [
       "Ages             12187\n",
       "Condition           43\n",
       "Date                 0\n",
       "Drug                 0\n",
       "DrugId               0\n",
       "EaseofUse            0\n",
       "Effectiveness        0\n",
       "Reviews             49\n",
       "Satisfaction         0\n",
       "Sex              26537\n",
       "Sides            17460\n",
       "UsefulCount          0\n",
       "dtype: int64"
      ]
     },
     "execution_count": 9,
     "metadata": {},
     "output_type": "execute_result"
    }
   ],
   "source": [
    "Data.isna().sum()"
   ]
  },
  {
   "cell_type": "code",
   "execution_count": 10,
   "metadata": {},
   "outputs": [],
   "source": [
    "df=Data"
   ]
  },
  {
   "cell_type": "markdown",
   "metadata": {},
   "source": [
    "Handling Missing values"
   ]
  },
  {
   "cell_type": "code",
   "execution_count": 11,
   "metadata": {},
   "outputs": [],
   "source": [
    "##Handling missing data\n",
    "nan_value = float(\"NaN\")\n",
    "df.replace(\"\", nan_value, inplace=True)\n",
    "df.dropna(subset =df.columns, inplace=True)\n",
    "df=df.reset_index(drop=True)"
   ]
  },
  {
   "cell_type": "code",
   "execution_count": 12,
   "metadata": {},
   "outputs": [
    {
     "data": {
      "text/plain": [
       "Ages             0\n",
       "Condition        0\n",
       "Date             0\n",
       "Drug             0\n",
       "DrugId           0\n",
       "EaseofUse        0\n",
       "Effectiveness    0\n",
       "Reviews          0\n",
       "Satisfaction     0\n",
       "Sex              0\n",
       "Sides            0\n",
       "UsefulCount      0\n",
       "dtype: int64"
      ]
     },
     "execution_count": 12,
     "metadata": {},
     "output_type": "execute_result"
    }
   ],
   "source": [
    "Data.isna().sum()"
   ]
  },
  {
   "cell_type": "code",
   "execution_count": 13,
   "metadata": {},
   "outputs": [
    {
     "data": {
      "text/plain": [
       "(315577, 12)"
      ]
     },
     "execution_count": 13,
     "metadata": {},
     "output_type": "execute_result"
    }
   ],
   "source": [
    "df.shape"
   ]
  },
  {
   "cell_type": "markdown",
   "metadata": {},
   "source": [
    "Checking for duplicates"
   ]
  },
  {
   "cell_type": "code",
   "execution_count": 14,
   "metadata": {},
   "outputs": [
    {
     "data": {
      "text/plain": [
       "0         False\n",
       "1         False\n",
       "2         False\n",
       "3         False\n",
       "4         False\n",
       "          ...  \n",
       "315572    False\n",
       "315573    False\n",
       "315574    False\n",
       "315575    False\n",
       "315576    False\n",
       "Length: 315577, dtype: bool"
      ]
     },
     "execution_count": 14,
     "metadata": {},
     "output_type": "execute_result"
    }
   ],
   "source": [
    "df.duplicated()"
   ]
  },
  {
   "cell_type": "markdown",
   "metadata": {},
   "source": [
    "Removing Duplicates"
   ]
  },
  {
   "cell_type": "code",
   "execution_count": null,
   "metadata": {},
   "outputs": [],
   "source": [
    "##Handling duplicate values\n",
    "df.drop_duplicates(keep='first',inplace=True)\n",
    "df=df.reset_index(drop=True)"
   ]
  },
  {
   "cell_type": "code",
   "execution_count": 16,
   "metadata": {},
   "outputs": [
    {
     "data": {
      "text/plain": [
       "(315130, 12)"
      ]
     },
     "execution_count": 16,
     "metadata": {},
     "output_type": "execute_result"
    }
   ],
   "source": [
    "df.shape"
   ]
  },
  {
   "cell_type": "code",
   "execution_count": 17,
   "metadata": {},
   "outputs": [],
   "source": [
    "df.drop(['Reviews','Date'],axis=1,inplace=True)"
   ]
  },
  {
   "cell_type": "code",
   "execution_count": 18,
   "metadata": {},
   "outputs": [
    {
     "data": {
      "text/plain": [
       "Index(['Ages', 'Condition', 'Drug', 'DrugId', 'EaseofUse', 'Effectiveness',\n",
       "       'Satisfaction', 'Sex', 'Sides', 'UsefulCount'],\n",
       "      dtype='object')"
      ]
     },
     "execution_count": 18,
     "metadata": {},
     "output_type": "execute_result"
    }
   ],
   "source": [
    "df.columns"
   ]
  },
  {
   "cell_type": "markdown",
   "metadata": {},
   "source": [
    "Checking correlation among features"
   ]
  },
  {
   "cell_type": "code",
   "execution_count": 19,
   "metadata": {},
   "outputs": [
    {
     "data": {
      "text/plain": [
       "<AxesSubplot:>"
      ]
     },
     "execution_count": 19,
     "metadata": {},
     "output_type": "execute_result"
    },
    {
     "data": {
      "image/png": "[encoded data removed]",
      "text/plain": [
       "<Figure size 432x288 with 2 Axes>"
      ]
     },
     "metadata": {
      "needs_background": "light"
     },
     "output_type": "display_data"
    }
   ],
   "source": [
    "##checking correlation\n",
    "cmap = sns.diverging_palette(230,20,as_cmap=True)\n",
    "sns.heatmap(df.corr(),cmap = cmap,vmin=-0.5,vmax=1.0,linewidths=0.4,annot=True)"
   ]
  },
  {
   "cell_type": "code",
   "execution_count": 20,
   "metadata": {},
   "outputs": [],
   "source": [
    "##we can drp ,Drug ID,Effectiveness"
   ]
  },
  {
   "cell_type": "markdown",
   "metadata": {},
   "source": [
    "Removing highly correlated features"
   ]
  },
  {
   "cell_type": "code",
   "execution_count": 21,
   "metadata": {},
   "outputs": [],
   "source": [
    "df.drop(['DrugId','Effectiveness'],axis=1,inplace=True)"
   ]
  },
  {
   "cell_type": "code",
   "execution_count": 22,
   "metadata": {},
   "outputs": [
    {
     "data": {
      "text/plain": [
       "Index(['Ages', 'Condition', 'Drug', 'EaseofUse', 'Satisfaction', 'Sex',\n",
       "       'Sides', 'UsefulCount'],\n",
       "      dtype='object')"
      ]
     },
     "execution_count": 22,
     "metadata": {},
     "output_type": "execute_result"
    }
   ],
   "source": [
    "df.columns"
   ]
  },
  {
   "cell_type": "code",
   "execution_count": 23,
   "metadata": {},
   "outputs": [
    {
     "data": {
      "text/plain": [
       "Ages              12\n",
       "Condition       1639\n",
       "Drug            5278\n",
       "EaseofUse          6\n",
       "Satisfaction       6\n",
       "Sex                2\n",
       "Sides           1617\n",
       "UsefulCount      144\n",
       "dtype: int64"
      ]
     },
     "execution_count": 23,
     "metadata": {},
     "output_type": "execute_result"
    }
   ],
   "source": [
    "df.nunique()"
   ]
  },
  {
   "cell_type": "markdown",
   "metadata": {},
   "source": [
    "Exploratory Data Analysis"
   ]
  },
  {
   "cell_type": "code",
   "execution_count": 24,
   "metadata": {},
   "outputs": [
    {
     "data": {
      "image/png": "[encoded data removed]",
      "text/plain": [
       "<Figure size 1440x1080 with 1 Axes>"
      ]
     },
     "metadata": {
      "needs_background": "light"
     },
     "output_type": "display_data"
    },
    {
     "data": {
      "image/png": "[encoded data removed]",
      "text/plain": [
       "<Figure size 1440x1080 with 1 Axes>"
      ]
     },
     "metadata": {
      "needs_background": "light"
     },
     "output_type": "display_data"
    },
    {
     "data": {
      "image/png": "[encoded data removed]",
      "text/plain": [
       "<Figure size 1440x1080 with 1 Axes>"
      ]
     },
     "metadata": {
      "needs_background": "light"
     },
     "output_type": "display_data"
    },
    {
     "data": {
      "text/plain": [
       "<Figure size 432x288 with 0 Axes>"
      ]
     },
     "metadata": {},
     "output_type": "display_data"
    }
   ],
   "source": [
    "##Exploratory Data Analysis\n",
    "plt.figure(figsize=(20,15))\n",
    "\n",
    "plt.subplot(3,1,1)\n",
    "sns.countplot(x='Ages', data=df)\n",
    "plt.title('Ages distribution')\n",
    "plt.xlabel('Ages')\n",
    "plt.ylabel('count')\n",
    "plt.show()\n",
    "\n",
    "plt.figure(figsize=(20,15))\n",
    "plt.subplot(3,1,2)\n",
    "sns.countplot(x='Sex', data=df)\n",
    "plt.title('Gender based distribution')\n",
    "plt.xlabel('Sex')\n",
    "plt.ylabel('count')\n",
    "plt.show()\n",
    "\n",
    "plt.figure(figsize=(20,15))\n",
    "plt.subplot(3,1,3)\n",
    "sns.countplot(x='Satisfaction', data=df)\n",
    "plt.title('Satisfaction based distribution')\n",
    "plt.xlabel('Satisfaction')\n",
    "plt.ylabel('count')\n",
    "plt.show()\n",
    "\n",
    "plt.tight_layout()"
   ]
  },
  {
   "cell_type": "code",
   "execution_count": 25,
   "metadata": {},
   "outputs": [
    {
     "data": {
      "image/png": "[encoded data removed]",
      "text/plain": [
       "<Figure size 1152x720 with 1 Axes>"
      ]
     },
     "metadata": {
      "needs_background": "light"
     },
     "output_type": "display_data"
    },
    {
     "data": {
      "image/png": "[encoded data removed]",
      "text/plain": [
       "<Figure size 1152x720 with 1 Axes>"
      ]
     },
     "metadata": {
      "needs_background": "light"
     },
     "output_type": "display_data"
    },
    {
     "data": {
      "text/plain": [
       "<Figure size 432x288 with 0 Axes>"
      ]
     },
     "metadata": {},
     "output_type": "display_data"
    }
   ],
   "source": [
    "plt.figure(figsize=(16,10))\n",
    "\n",
    "plt.subplot(2,1,1)\n",
    "sns.countplot(x='Ages', data=df,hue='Sex')\n",
    "plt.title('Gender distribution based on age group')\n",
    "plt.xlabel('Ages')\n",
    "plt.ylabel('count')\n",
    "plt.show()\n",
    "\n",
    "plt.figure(figsize=(16,10))\n",
    "plt.subplot(2,1,2)\n",
    "sns.countplot(x='Satisfaction', data=df, hue='Sex')\n",
    "plt.title('Gender distribution based on Satisfaction')\n",
    "plt.xlabel('Satisfaction')\n",
    "plt.ylabel('count')\n",
    "plt.show()\n",
    "\n",
    "plt.tight_layout()"
   ]
  },
  {
   "cell_type": "code",
   "execution_count": 26,
   "metadata": {},
   "outputs": [],
   "source": [
    "top_10_drugs=df[\"Drug\"].value_counts().sort_values(ascending=False)[:10]\n",
    "\n",
    "top_10_drugs_df=pd.DataFrame(zip(top_10_drugs.index, top_10_drugs), columns = [\"Drug\", \"count\"])"
   ]
  },
  {
   "cell_type": "code",
   "execution_count": 27,
   "metadata": {},
   "outputs": [
    {
     "data": {
      "text/plain": [
       "Text(0.5, 0, 'drug name')"
      ]
     },
     "execution_count": 27,
     "metadata": {},
     "output_type": "execute_result"
    },
    {
     "data": {
      "image/png": "[encoded data removed]",
      "text/plain": [
       "<Figure size 720x360 with 1 Axes>"
      ]
     },
     "metadata": {},
     "output_type": "display_data"
    }
   ],
   "source": [
    "#counts of top 10 drugs\n",
    "sns.set(style=\"whitegrid\")\n",
    "plt.figure(figsize=(10, 5))\n",
    "ax = sns.barplot(x=\"Drug\", y=\"count\", data=top_10_drugs_df, palette=sns.color_palette(\"cubehelix\", 10))\n",
    "plt.xticks(rotation=90)\n",
    "plt.title(\"Top-10 drug counts\", {\"fontname\":\"fantasy\", \"fontweight\":\"bold\", \"fontsize\":\"medium\"})\n",
    "plt.ylabel(\"count\", {\"fontname\": \"serif\", \"fontweight\":\"bold\"})\n",
    "plt.xlabel(\"drug name\", {\"fontname\": \"serif\", \"fontweight\":\"bold\"})"
   ]
  },
  {
   "cell_type": "code",
   "execution_count": 28,
   "metadata": {},
   "outputs": [],
   "source": [
    "top_10_condition=df[\"Condition\"].value_counts().sort_values(ascending=False)[:10]\n",
    "\n",
    "top_10_condition_df=pd.DataFrame(zip(top_10_condition.index, top_10_condition), columns = [\"Condition\", \"count\"])"
   ]
  },
  {
   "cell_type": "code",
   "execution_count": 29,
   "metadata": {},
   "outputs": [
    {
     "data": {
      "text/plain": [
       "Text(0.5, 0, 'condition')"
      ]
     },
     "execution_count": 29,
     "metadata": {},
     "output_type": "execute_result"
    },
    {
     "data": {
      "image/png": "[encoded data removed]",
      "text/plain": [
       "<Figure size 720x360 with 1 Axes>"
      ]
     },
     "metadata": {},
     "output_type": "display_data"
    }
   ],
   "source": [
    "#counts of top 10 drugs\n",
    "sns.set(style=\"whitegrid\")\n",
    "plt.figure(figsize=(10, 5))\n",
    "ax = sns.barplot(x=\"Condition\", y=\"count\", data=top_10_condition_df, palette=sns.color_palette(\"cubehelix\", 10))\n",
    "plt.xticks(rotation=90)\n",
    "plt.title(\"Top-10 condition counts\", {\"fontname\":\"fantasy\", \"fontweight\":\"bold\", \"fontsize\":\"medium\"})\n",
    "plt.ylabel(\"count\", {\"fontname\": \"serif\", \"fontweight\":\"bold\"})\n",
    "plt.xlabel(\"condition\", {\"fontname\": \"serif\", \"fontweight\":\"bold\"})"
   ]
  },
  {
   "cell_type": "markdown",
   "metadata": {},
   "source": [
    "Encoding Features"
   ]
  },
  {
   "cell_type": "code",
   "execution_count": 30,
   "metadata": {},
   "outputs": [],
   "source": [
    "##Encoding categorical features\n",
    "df['Lower age'],df['Upper age'] = zip(*df['Ages'].map(lambda x: x.split('-')))"
   ]
  },
  {
   "cell_type": "code",
   "execution_count": 31,
   "metadata": {},
   "outputs": [],
   "source": [
    "df.drop('Ages',axis=1,inplace=True)"
   ]
  },
  {
   "cell_type": "code",
   "execution_count": 32,
   "metadata": {},
   "outputs": [
    {
     "data": {
      "text/html": [
       "<div>\n",
       "<style scoped>\n",
       "    .dataframe tbody tr th:only-of-type {\n",
       "        vertical-align: middle;\n",
       "    }\n",
       "\n",
       "    .dataframe tbody tr th {\n",
       "        vertical-align: top;\n",
       "    }\n",
       "\n",
       "    .dataframe thead th {\n",
       "        text-align: right;\n",
       "    }\n",
       "</style>\n",
       "<table border=\"1\" class=\"dataframe\">\n",
       "  <thead>\n",
       "    <tr style=\"text-align: right;\">\n",
       "      <th></th>\n",
       "      <th>Condition</th>\n",
       "      <th>Drug</th>\n",
       "      <th>EaseofUse</th>\n",
       "      <th>Satisfaction</th>\n",
       "      <th>Sex</th>\n",
       "      <th>Sides</th>\n",
       "      <th>UsefulCount</th>\n",
       "      <th>Lower age</th>\n",
       "      <th>Upper age</th>\n",
       "    </tr>\n",
       "  </thead>\n",
       "  <tbody>\n",
       "    <tr>\n",
       "      <th>0</th>\n",
       "      <td>Stuffy Nose</td>\n",
       "      <td>25dph-7.5peh</td>\n",
       "      <td>5</td>\n",
       "      <td>5</td>\n",
       "      <td>Male</td>\n",
       "      <td>Drowsiness,  dizziness ,  dry mouth /nose/thro...</td>\n",
       "      <td>0</td>\n",
       "      <td>75</td>\n",
       "      <td>85</td>\n",
       "    </tr>\n",
       "    <tr>\n",
       "      <th>1</th>\n",
       "      <td>Cold Symptoms</td>\n",
       "      <td>25dph-7.5peh</td>\n",
       "      <td>5</td>\n",
       "      <td>5</td>\n",
       "      <td>Female</td>\n",
       "      <td>Drowsiness,  dizziness ,  dry mouth /nose/thro...</td>\n",
       "      <td>1</td>\n",
       "      <td>25</td>\n",
       "      <td>34</td>\n",
       "    </tr>\n",
       "    <tr>\n",
       "      <th>2</th>\n",
       "      <td>Birth Control</td>\n",
       "      <td>wymzya fe</td>\n",
       "      <td>5</td>\n",
       "      <td>2</td>\n",
       "      <td>Female</td>\n",
       "      <td>Nausea ,  vomiting ,  headache ,  bloating ,  ...</td>\n",
       "      <td>0</td>\n",
       "      <td>25</td>\n",
       "      <td>34</td>\n",
       "    </tr>\n",
       "    <tr>\n",
       "      <th>3</th>\n",
       "      <td>Disease of Ovaries with Cysts</td>\n",
       "      <td>wymzya fe</td>\n",
       "      <td>5</td>\n",
       "      <td>5</td>\n",
       "      <td>Female</td>\n",
       "      <td>Nausea ,  vomiting ,  headache ,  bloating ,  ...</td>\n",
       "      <td>0</td>\n",
       "      <td>45</td>\n",
       "      <td>54</td>\n",
       "    </tr>\n",
       "    <tr>\n",
       "      <th>4</th>\n",
       "      <td>Acne</td>\n",
       "      <td>wymzya fe</td>\n",
       "      <td>4</td>\n",
       "      <td>2</td>\n",
       "      <td>Female</td>\n",
       "      <td>Nausea ,  vomiting ,  headache ,  bloating ,  ...</td>\n",
       "      <td>1</td>\n",
       "      <td>25</td>\n",
       "      <td>34</td>\n",
       "    </tr>\n",
       "    <tr>\n",
       "      <th>...</th>\n",
       "      <td>...</td>\n",
       "      <td>...</td>\n",
       "      <td>...</td>\n",
       "      <td>...</td>\n",
       "      <td>...</td>\n",
       "      <td>...</td>\n",
       "      <td>...</td>\n",
       "      <td>...</td>\n",
       "      <td>...</td>\n",
       "    </tr>\n",
       "    <tr>\n",
       "      <th>315125</th>\n",
       "      <td>Stop Smoking</td>\n",
       "      <td>chantix</td>\n",
       "      <td>2</td>\n",
       "      <td>4</td>\n",
       "      <td>Female</td>\n",
       "      <td>Nausea ,  headache ,  vomiting , drowsiness, g...</td>\n",
       "      <td>5</td>\n",
       "      <td>25</td>\n",
       "      <td>34</td>\n",
       "    </tr>\n",
       "    <tr>\n",
       "      <th>315126</th>\n",
       "      <td>Stop Smoking</td>\n",
       "      <td>chantix</td>\n",
       "      <td>5</td>\n",
       "      <td>5</td>\n",
       "      <td>Female</td>\n",
       "      <td>Nausea ,  headache ,  vomiting , drowsiness, g...</td>\n",
       "      <td>2</td>\n",
       "      <td>55</td>\n",
       "      <td>64</td>\n",
       "    </tr>\n",
       "    <tr>\n",
       "      <th>315127</th>\n",
       "      <td>Stop Smoking</td>\n",
       "      <td>chantix</td>\n",
       "      <td>2</td>\n",
       "      <td>2</td>\n",
       "      <td>Female</td>\n",
       "      <td>Nausea ,  headache ,  vomiting , drowsiness, g...</td>\n",
       "      <td>3</td>\n",
       "      <td>25</td>\n",
       "      <td>34</td>\n",
       "    </tr>\n",
       "    <tr>\n",
       "      <th>315128</th>\n",
       "      <td>Stop Smoking</td>\n",
       "      <td>chantix</td>\n",
       "      <td>5</td>\n",
       "      <td>5</td>\n",
       "      <td>Male</td>\n",
       "      <td>Nausea ,  headache ,  vomiting , drowsiness, g...</td>\n",
       "      <td>1</td>\n",
       "      <td>55</td>\n",
       "      <td>64</td>\n",
       "    </tr>\n",
       "    <tr>\n",
       "      <th>315129</th>\n",
       "      <td>Stop Smoking</td>\n",
       "      <td>chantix</td>\n",
       "      <td>4</td>\n",
       "      <td>5</td>\n",
       "      <td>Female</td>\n",
       "      <td>Nausea ,  headache ,  vomiting , drowsiness, g...</td>\n",
       "      <td>3</td>\n",
       "      <td>45</td>\n",
       "      <td>54</td>\n",
       "    </tr>\n",
       "  </tbody>\n",
       "</table>\n",
       "<p>315130 rows × 9 columns</p>\n",
       "</div>"
      ],
      "text/plain": [
       "                            Condition          Drug  EaseofUse  Satisfaction  \\\n",
       "0                         Stuffy Nose  25dph-7.5peh          5             5   \n",
       "1                       Cold Symptoms  25dph-7.5peh          5             5   \n",
       "2                       Birth Control     wymzya fe          5             2   \n",
       "3       Disease of Ovaries with Cysts     wymzya fe          5             5   \n",
       "4                                Acne     wymzya fe          4             2   \n",
       "...                               ...           ...        ...           ...   \n",
       "315125                   Stop Smoking       chantix          2             4   \n",
       "315126                   Stop Smoking       chantix          5             5   \n",
       "315127                   Stop Smoking       chantix          2             2   \n",
       "315128                   Stop Smoking       chantix          5             5   \n",
       "315129                   Stop Smoking       chantix          4             5   \n",
       "\n",
       "           Sex                                              Sides  \\\n",
       "0         Male  Drowsiness,  dizziness ,  dry mouth /nose/thro...   \n",
       "1       Female  Drowsiness,  dizziness ,  dry mouth /nose/thro...   \n",
       "2       Female  Nausea ,  vomiting ,  headache ,  bloating ,  ...   \n",
       "3       Female  Nausea ,  vomiting ,  headache ,  bloating ,  ...   \n",
       "4       Female  Nausea ,  vomiting ,  headache ,  bloating ,  ...   \n",
       "...        ...                                                ...   \n",
       "315125  Female  Nausea ,  headache ,  vomiting , drowsiness, g...   \n",
       "315126  Female  Nausea ,  headache ,  vomiting , drowsiness, g...   \n",
       "315127  Female  Nausea ,  headache ,  vomiting , drowsiness, g...   \n",
       "315128    Male  Nausea ,  headache ,  vomiting , drowsiness, g...   \n",
       "315129  Female  Nausea ,  headache ,  vomiting , drowsiness, g...   \n",
       "\n",
       "        UsefulCount Lower age Upper age  \n",
       "0                 0        75        85  \n",
       "1                 1        25        34  \n",
       "2                 0        25        34  \n",
       "3                 0        45        54  \n",
       "4                 1        25        34  \n",
       "...             ...       ...       ...  \n",
       "315125            5        25        34  \n",
       "315126            2        55        64  \n",
       "315127            3        25        34  \n",
       "315128            1        55        64  \n",
       "315129            3        45        54  \n",
       "\n",
       "[315130 rows x 9 columns]"
      ]
     },
     "execution_count": 32,
     "metadata": {},
     "output_type": "execute_result"
    }
   ],
   "source": [
    "df"
   ]
  },
  {
   "cell_type": "code",
   "execution_count": 33,
   "metadata": {},
   "outputs": [],
   "source": [
    "from sklearn.preprocessing import LabelEncoder\n",
    "label_en=LabelEncoder()\n",
    "a=['Condition','Drug','Satisfaction','EaseofUse','UsefulCount','Sides']\n",
    "for i in np.arange(len(a)):\n",
    "  df[a[i]]=label_en.fit_transform(df[a[i]])"
   ]
  },
  {
   "cell_type": "code",
   "execution_count": 34,
   "metadata": {},
   "outputs": [
    {
     "data": {
      "text/html": [
       "<div>\n",
       "<style scoped>\n",
       "    .dataframe tbody tr th:only-of-type {\n",
       "        vertical-align: middle;\n",
       "    }\n",
       "\n",
       "    .dataframe tbody tr th {\n",
       "        vertical-align: top;\n",
       "    }\n",
       "\n",
       "    .dataframe thead th {\n",
       "        text-align: right;\n",
       "    }\n",
       "</style>\n",
       "<table border=\"1\" class=\"dataframe\">\n",
       "  <thead>\n",
       "    <tr style=\"text-align: right;\">\n",
       "      <th></th>\n",
       "      <th>Condition</th>\n",
       "      <th>Drug</th>\n",
       "      <th>EaseofUse</th>\n",
       "      <th>Satisfaction</th>\n",
       "      <th>Sex</th>\n",
       "      <th>Sides</th>\n",
       "      <th>UsefulCount</th>\n",
       "      <th>Lower age</th>\n",
       "      <th>Upper age</th>\n",
       "    </tr>\n",
       "  </thead>\n",
       "  <tbody>\n",
       "    <tr>\n",
       "      <th>0</th>\n",
       "      <td>1455</td>\n",
       "      <td>4</td>\n",
       "      <td>4</td>\n",
       "      <td>4</td>\n",
       "      <td>Male</td>\n",
       "      <td>403</td>\n",
       "      <td>0</td>\n",
       "      <td>75</td>\n",
       "      <td>85</td>\n",
       "    </tr>\n",
       "    <tr>\n",
       "      <th>1</th>\n",
       "      <td>393</td>\n",
       "      <td>4</td>\n",
       "      <td>4</td>\n",
       "      <td>4</td>\n",
       "      <td>Female</td>\n",
       "      <td>403</td>\n",
       "      <td>1</td>\n",
       "      <td>25</td>\n",
       "      <td>34</td>\n",
       "    </tr>\n",
       "    <tr>\n",
       "      <th>2</th>\n",
       "      <td>221</td>\n",
       "      <td>5103</td>\n",
       "      <td>4</td>\n",
       "      <td>1</td>\n",
       "      <td>Female</td>\n",
       "      <td>1028</td>\n",
       "      <td>0</td>\n",
       "      <td>25</td>\n",
       "      <td>34</td>\n",
       "    </tr>\n",
       "    <tr>\n",
       "      <th>3</th>\n",
       "      <td>514</td>\n",
       "      <td>5103</td>\n",
       "      <td>4</td>\n",
       "      <td>4</td>\n",
       "      <td>Female</td>\n",
       "      <td>1028</td>\n",
       "      <td>0</td>\n",
       "      <td>45</td>\n",
       "      <td>54</td>\n",
       "    </tr>\n",
       "    <tr>\n",
       "      <th>4</th>\n",
       "      <td>51</td>\n",
       "      <td>5103</td>\n",
       "      <td>3</td>\n",
       "      <td>1</td>\n",
       "      <td>Female</td>\n",
       "      <td>1028</td>\n",
       "      <td>1</td>\n",
       "      <td>25</td>\n",
       "      <td>34</td>\n",
       "    </tr>\n",
       "    <tr>\n",
       "      <th>...</th>\n",
       "      <td>...</td>\n",
       "      <td>...</td>\n",
       "      <td>...</td>\n",
       "      <td>...</td>\n",
       "      <td>...</td>\n",
       "      <td>...</td>\n",
       "      <td>...</td>\n",
       "      <td>...</td>\n",
       "      <td>...</td>\n",
       "    </tr>\n",
       "    <tr>\n",
       "      <th>315125</th>\n",
       "      <td>1446</td>\n",
       "      <td>900</td>\n",
       "      <td>1</td>\n",
       "      <td>3</td>\n",
       "      <td>Female</td>\n",
       "      <td>895</td>\n",
       "      <td>5</td>\n",
       "      <td>25</td>\n",
       "      <td>34</td>\n",
       "    </tr>\n",
       "    <tr>\n",
       "      <th>315126</th>\n",
       "      <td>1446</td>\n",
       "      <td>900</td>\n",
       "      <td>4</td>\n",
       "      <td>4</td>\n",
       "      <td>Female</td>\n",
       "      <td>895</td>\n",
       "      <td>2</td>\n",
       "      <td>55</td>\n",
       "      <td>64</td>\n",
       "    </tr>\n",
       "    <tr>\n",
       "      <th>315127</th>\n",
       "      <td>1446</td>\n",
       "      <td>900</td>\n",
       "      <td>1</td>\n",
       "      <td>1</td>\n",
       "      <td>Female</td>\n",
       "      <td>895</td>\n",
       "      <td>3</td>\n",
       "      <td>25</td>\n",
       "      <td>34</td>\n",
       "    </tr>\n",
       "    <tr>\n",
       "      <th>315128</th>\n",
       "      <td>1446</td>\n",
       "      <td>900</td>\n",
       "      <td>4</td>\n",
       "      <td>4</td>\n",
       "      <td>Male</td>\n",
       "      <td>895</td>\n",
       "      <td>1</td>\n",
       "      <td>55</td>\n",
       "      <td>64</td>\n",
       "    </tr>\n",
       "    <tr>\n",
       "      <th>315129</th>\n",
       "      <td>1446</td>\n",
       "      <td>900</td>\n",
       "      <td>3</td>\n",
       "      <td>4</td>\n",
       "      <td>Female</td>\n",
       "      <td>895</td>\n",
       "      <td>3</td>\n",
       "      <td>45</td>\n",
       "      <td>54</td>\n",
       "    </tr>\n",
       "  </tbody>\n",
       "</table>\n",
       "<p>315130 rows × 9 columns</p>\n",
       "</div>"
      ],
      "text/plain": [
       "        Condition  Drug  EaseofUse  Satisfaction     Sex  Sides  UsefulCount  \\\n",
       "0            1455     4          4             4    Male    403            0   \n",
       "1             393     4          4             4  Female    403            1   \n",
       "2             221  5103          4             1  Female   1028            0   \n",
       "3             514  5103          4             4  Female   1028            0   \n",
       "4              51  5103          3             1  Female   1028            1   \n",
       "...           ...   ...        ...           ...     ...    ...          ...   \n",
       "315125       1446   900          1             3  Female    895            5   \n",
       "315126       1446   900          4             4  Female    895            2   \n",
       "315127       1446   900          1             1  Female    895            3   \n",
       "315128       1446   900          4             4    Male    895            1   \n",
       "315129       1446   900          3             4  Female    895            3   \n",
       "\n",
       "       Lower age Upper age  \n",
       "0             75        85  \n",
       "1             25        34  \n",
       "2             25        34  \n",
       "3             45        54  \n",
       "4             25        34  \n",
       "...          ...       ...  \n",
       "315125        25        34  \n",
       "315126        55        64  \n",
       "315127        25        34  \n",
       "315128        55        64  \n",
       "315129        45        54  \n",
       "\n",
       "[315130 rows x 9 columns]"
      ]
     },
     "execution_count": 34,
     "metadata": {},
     "output_type": "execute_result"
    }
   ],
   "source": [
    "df "
   ]
  },
  {
   "cell_type": "code",
   "execution_count": 35,
   "metadata": {},
   "outputs": [],
   "source": [
    "df = pd.concat([df.drop('Sex', axis=1), pd.get_dummies(df['Sex'])], axis=1)"
   ]
  },
  {
   "cell_type": "code",
   "execution_count": 36,
   "metadata": {},
   "outputs": [
    {
     "data": {
      "text/html": [
       "<div>\n",
       "<style scoped>\n",
       "    .dataframe tbody tr th:only-of-type {\n",
       "        vertical-align: middle;\n",
       "    }\n",
       "\n",
       "    .dataframe tbody tr th {\n",
       "        vertical-align: top;\n",
       "    }\n",
       "\n",
       "    .dataframe thead th {\n",
       "        text-align: right;\n",
       "    }\n",
       "</style>\n",
       "<table border=\"1\" class=\"dataframe\">\n",
       "  <thead>\n",
       "    <tr style=\"text-align: right;\">\n",
       "      <th></th>\n",
       "      <th>Condition</th>\n",
       "      <th>Drug</th>\n",
       "      <th>EaseofUse</th>\n",
       "      <th>Satisfaction</th>\n",
       "      <th>Sides</th>\n",
       "      <th>UsefulCount</th>\n",
       "      <th>Lower age</th>\n",
       "      <th>Upper age</th>\n",
       "      <th>Female</th>\n",
       "      <th>Male</th>\n",
       "    </tr>\n",
       "  </thead>\n",
       "  <tbody>\n",
       "    <tr>\n",
       "      <th>0</th>\n",
       "      <td>1455</td>\n",
       "      <td>4</td>\n",
       "      <td>4</td>\n",
       "      <td>4</td>\n",
       "      <td>403</td>\n",
       "      <td>0</td>\n",
       "      <td>75</td>\n",
       "      <td>85</td>\n",
       "      <td>0</td>\n",
       "      <td>1</td>\n",
       "    </tr>\n",
       "    <tr>\n",
       "      <th>1</th>\n",
       "      <td>393</td>\n",
       "      <td>4</td>\n",
       "      <td>4</td>\n",
       "      <td>4</td>\n",
       "      <td>403</td>\n",
       "      <td>1</td>\n",
       "      <td>25</td>\n",
       "      <td>34</td>\n",
       "      <td>1</td>\n",
       "      <td>0</td>\n",
       "    </tr>\n",
       "    <tr>\n",
       "      <th>2</th>\n",
       "      <td>221</td>\n",
       "      <td>5103</td>\n",
       "      <td>4</td>\n",
       "      <td>1</td>\n",
       "      <td>1028</td>\n",
       "      <td>0</td>\n",
       "      <td>25</td>\n",
       "      <td>34</td>\n",
       "      <td>1</td>\n",
       "      <td>0</td>\n",
       "    </tr>\n",
       "    <tr>\n",
       "      <th>3</th>\n",
       "      <td>514</td>\n",
       "      <td>5103</td>\n",
       "      <td>4</td>\n",
       "      <td>4</td>\n",
       "      <td>1028</td>\n",
       "      <td>0</td>\n",
       "      <td>45</td>\n",
       "      <td>54</td>\n",
       "      <td>1</td>\n",
       "      <td>0</td>\n",
       "    </tr>\n",
       "    <tr>\n",
       "      <th>4</th>\n",
       "      <td>51</td>\n",
       "      <td>5103</td>\n",
       "      <td>3</td>\n",
       "      <td>1</td>\n",
       "      <td>1028</td>\n",
       "      <td>1</td>\n",
       "      <td>25</td>\n",
       "      <td>34</td>\n",
       "      <td>1</td>\n",
       "      <td>0</td>\n",
       "    </tr>\n",
       "    <tr>\n",
       "      <th>...</th>\n",
       "      <td>...</td>\n",
       "      <td>...</td>\n",
       "      <td>...</td>\n",
       "      <td>...</td>\n",
       "      <td>...</td>\n",
       "      <td>...</td>\n",
       "      <td>...</td>\n",
       "      <td>...</td>\n",
       "      <td>...</td>\n",
       "      <td>...</td>\n",
       "    </tr>\n",
       "    <tr>\n",
       "      <th>315125</th>\n",
       "      <td>1446</td>\n",
       "      <td>900</td>\n",
       "      <td>1</td>\n",
       "      <td>3</td>\n",
       "      <td>895</td>\n",
       "      <td>5</td>\n",
       "      <td>25</td>\n",
       "      <td>34</td>\n",
       "      <td>1</td>\n",
       "      <td>0</td>\n",
       "    </tr>\n",
       "    <tr>\n",
       "      <th>315126</th>\n",
       "      <td>1446</td>\n",
       "      <td>900</td>\n",
       "      <td>4</td>\n",
       "      <td>4</td>\n",
       "      <td>895</td>\n",
       "      <td>2</td>\n",
       "      <td>55</td>\n",
       "      <td>64</td>\n",
       "      <td>1</td>\n",
       "      <td>0</td>\n",
       "    </tr>\n",
       "    <tr>\n",
       "      <th>315127</th>\n",
       "      <td>1446</td>\n",
       "      <td>900</td>\n",
       "      <td>1</td>\n",
       "      <td>1</td>\n",
       "      <td>895</td>\n",
       "      <td>3</td>\n",
       "      <td>25</td>\n",
       "      <td>34</td>\n",
       "      <td>1</td>\n",
       "      <td>0</td>\n",
       "    </tr>\n",
       "    <tr>\n",
       "      <th>315128</th>\n",
       "      <td>1446</td>\n",
       "      <td>900</td>\n",
       "      <td>4</td>\n",
       "      <td>4</td>\n",
       "      <td>895</td>\n",
       "      <td>1</td>\n",
       "      <td>55</td>\n",
       "      <td>64</td>\n",
       "      <td>0</td>\n",
       "      <td>1</td>\n",
       "    </tr>\n",
       "    <tr>\n",
       "      <th>315129</th>\n",
       "      <td>1446</td>\n",
       "      <td>900</td>\n",
       "      <td>3</td>\n",
       "      <td>4</td>\n",
       "      <td>895</td>\n",
       "      <td>3</td>\n",
       "      <td>45</td>\n",
       "      <td>54</td>\n",
       "      <td>1</td>\n",
       "      <td>0</td>\n",
       "    </tr>\n",
       "  </tbody>\n",
       "</table>\n",
       "<p>315130 rows × 10 columns</p>\n",
       "</div>"
      ],
      "text/plain": [
       "        Condition  Drug  EaseofUse  Satisfaction  Sides  UsefulCount  \\\n",
       "0            1455     4          4             4    403            0   \n",
       "1             393     4          4             4    403            1   \n",
       "2             221  5103          4             1   1028            0   \n",
       "3             514  5103          4             4   1028            0   \n",
       "4              51  5103          3             1   1028            1   \n",
       "...           ...   ...        ...           ...    ...          ...   \n",
       "315125       1446   900          1             3    895            5   \n",
       "315126       1446   900          4             4    895            2   \n",
       "315127       1446   900          1             1    895            3   \n",
       "315128       1446   900          4             4    895            1   \n",
       "315129       1446   900          3             4    895            3   \n",
       "\n",
       "       Lower age Upper age  Female  Male  \n",
       "0             75        85       0     1  \n",
       "1             25        34       1     0  \n",
       "2             25        34       1     0  \n",
       "3             45        54       1     0  \n",
       "4             25        34       1     0  \n",
       "...          ...       ...     ...   ...  \n",
       "315125        25        34       1     0  \n",
       "315126        55        64       1     0  \n",
       "315127        25        34       1     0  \n",
       "315128        55        64       0     1  \n",
       "315129        45        54       1     0  \n",
       "\n",
       "[315130 rows x 10 columns]"
      ]
     },
     "execution_count": 36,
     "metadata": {},
     "output_type": "execute_result"
    }
   ],
   "source": [
    "df"
   ]
  },
  {
   "cell_type": "markdown",
   "metadata": {},
   "source": [
    "Splitting into dependent and independent features"
   ]
  },
  {
   "cell_type": "code",
   "execution_count": 37,
   "metadata": {},
   "outputs": [],
   "source": [
    "X=df.drop('Sides',axis=1)"
   ]
  },
  {
   "cell_type": "code",
   "execution_count": 38,
   "metadata": {},
   "outputs": [],
   "source": [
    "y=df['Sides']"
   ]
  },
  {
   "cell_type": "code",
   "execution_count": 39,
   "metadata": {},
   "outputs": [
    {
     "data": {
      "text/plain": [
       "0          403\n",
       "1          403\n",
       "2         1028\n",
       "3         1028\n",
       "4         1028\n",
       "          ... \n",
       "315125     895\n",
       "315126     895\n",
       "315127     895\n",
       "315128     895\n",
       "315129     895\n",
       "Name: Sides, Length: 315130, dtype: int32"
      ]
     },
     "execution_count": 39,
     "metadata": {},
     "output_type": "execute_result"
    }
   ],
   "source": [
    "y"
   ]
  },
  {
   "cell_type": "markdown",
   "metadata": {},
   "source": [
    "Scaling independent features"
   ]
  },
  {
   "cell_type": "code",
   "execution_count": 40,
   "metadata": {},
   "outputs": [],
   "source": [
    "## Scaling \n",
    "from sklearn.preprocessing import StandardScaler\n",
    "std=StandardScaler()\n",
    "X=std.fit_transform(X)\n",
    "X=pd.DataFrame(X)"
   ]
  },
  {
   "cell_type": "code",
   "execution_count": 41,
   "metadata": {},
   "outputs": [
    {
     "data": {
      "text/html": [
       "<div>\n",
       "<style scoped>\n",
       "    .dataframe tbody tr th:only-of-type {\n",
       "        vertical-align: middle;\n",
       "    }\n",
       "\n",
       "    .dataframe tbody tr th {\n",
       "        vertical-align: top;\n",
       "    }\n",
       "\n",
       "    .dataframe thead th {\n",
       "        text-align: right;\n",
       "    }\n",
       "</style>\n",
       "<table border=\"1\" class=\"dataframe\">\n",
       "  <thead>\n",
       "    <tr style=\"text-align: right;\">\n",
       "      <th></th>\n",
       "      <th>0</th>\n",
       "      <th>1</th>\n",
       "      <th>2</th>\n",
       "      <th>3</th>\n",
       "      <th>4</th>\n",
       "      <th>5</th>\n",
       "      <th>6</th>\n",
       "      <th>7</th>\n",
       "      <th>8</th>\n",
       "    </tr>\n",
       "  </thead>\n",
       "  <tbody>\n",
       "    <tr>\n",
       "      <th>0</th>\n",
       "      <td>1.505423</td>\n",
       "      <td>-1.822254</td>\n",
       "      <td>0.731143</td>\n",
       "      <td>1.149967</td>\n",
       "      <td>-0.737184</td>\n",
       "      <td>1.984163</td>\n",
       "      <td>1.970936</td>\n",
       "      <td>-1.568185</td>\n",
       "      <td>1.568185</td>\n",
       "    </tr>\n",
       "    <tr>\n",
       "      <th>1</th>\n",
       "      <td>-0.986117</td>\n",
       "      <td>-1.822254</td>\n",
       "      <td>0.731143</td>\n",
       "      <td>1.149967</td>\n",
       "      <td>-0.627490</td>\n",
       "      <td>-1.128054</td>\n",
       "      <td>-1.052339</td>\n",
       "      <td>0.637680</td>\n",
       "      <td>-0.637680</td>\n",
       "    </tr>\n",
       "    <tr>\n",
       "      <th>2</th>\n",
       "      <td>-1.389644</td>\n",
       "      <td>1.603784</td>\n",
       "      <td>0.731143</td>\n",
       "      <td>-0.722535</td>\n",
       "      <td>-0.737184</td>\n",
       "      <td>-1.128054</td>\n",
       "      <td>-1.052339</td>\n",
       "      <td>0.637680</td>\n",
       "      <td>-0.637680</td>\n",
       "    </tr>\n",
       "    <tr>\n",
       "      <th>3</th>\n",
       "      <td>-0.702241</td>\n",
       "      <td>1.603784</td>\n",
       "      <td>0.731143</td>\n",
       "      <td>1.149967</td>\n",
       "      <td>-0.737184</td>\n",
       "      <td>0.116832</td>\n",
       "      <td>0.133259</td>\n",
       "      <td>0.637680</td>\n",
       "      <td>-0.637680</td>\n",
       "    </tr>\n",
       "    <tr>\n",
       "      <th>4</th>\n",
       "      <td>-1.788478</td>\n",
       "      <td>1.603784</td>\n",
       "      <td>-0.042405</td>\n",
       "      <td>-0.722535</td>\n",
       "      <td>-0.627490</td>\n",
       "      <td>-1.128054</td>\n",
       "      <td>-1.052339</td>\n",
       "      <td>0.637680</td>\n",
       "      <td>-0.637680</td>\n",
       "    </tr>\n",
       "    <tr>\n",
       "      <th>...</th>\n",
       "      <td>...</td>\n",
       "      <td>...</td>\n",
       "      <td>...</td>\n",
       "      <td>...</td>\n",
       "      <td>...</td>\n",
       "      <td>...</td>\n",
       "      <td>...</td>\n",
       "      <td>...</td>\n",
       "      <td>...</td>\n",
       "    </tr>\n",
       "    <tr>\n",
       "      <th>315125</th>\n",
       "      <td>1.484308</td>\n",
       "      <td>-1.220228</td>\n",
       "      <td>-1.589500</td>\n",
       "      <td>0.525799</td>\n",
       "      <td>-0.188715</td>\n",
       "      <td>-1.128054</td>\n",
       "      <td>-1.052339</td>\n",
       "      <td>0.637680</td>\n",
       "      <td>-0.637680</td>\n",
       "    </tr>\n",
       "    <tr>\n",
       "      <th>315126</th>\n",
       "      <td>1.484308</td>\n",
       "      <td>-1.220228</td>\n",
       "      <td>0.731143</td>\n",
       "      <td>1.149967</td>\n",
       "      <td>-0.517797</td>\n",
       "      <td>0.739276</td>\n",
       "      <td>0.726058</td>\n",
       "      <td>0.637680</td>\n",
       "      <td>-0.637680</td>\n",
       "    </tr>\n",
       "    <tr>\n",
       "      <th>315127</th>\n",
       "      <td>1.484308</td>\n",
       "      <td>-1.220228</td>\n",
       "      <td>-1.589500</td>\n",
       "      <td>-0.722535</td>\n",
       "      <td>-0.408103</td>\n",
       "      <td>-1.128054</td>\n",
       "      <td>-1.052339</td>\n",
       "      <td>0.637680</td>\n",
       "      <td>-0.637680</td>\n",
       "    </tr>\n",
       "    <tr>\n",
       "      <th>315128</th>\n",
       "      <td>1.484308</td>\n",
       "      <td>-1.220228</td>\n",
       "      <td>0.731143</td>\n",
       "      <td>1.149967</td>\n",
       "      <td>-0.627490</td>\n",
       "      <td>0.739276</td>\n",
       "      <td>0.726058</td>\n",
       "      <td>-1.568185</td>\n",
       "      <td>1.568185</td>\n",
       "    </tr>\n",
       "    <tr>\n",
       "      <th>315129</th>\n",
       "      <td>1.484308</td>\n",
       "      <td>-1.220228</td>\n",
       "      <td>-0.042405</td>\n",
       "      <td>1.149967</td>\n",
       "      <td>-0.408103</td>\n",
       "      <td>0.116832</td>\n",
       "      <td>0.133259</td>\n",
       "      <td>0.637680</td>\n",
       "      <td>-0.637680</td>\n",
       "    </tr>\n",
       "  </tbody>\n",
       "</table>\n",
       "<p>315130 rows × 9 columns</p>\n",
       "</div>"
      ],
      "text/plain": [
       "               0         1         2         3         4         5         6  \\\n",
       "0       1.505423 -1.822254  0.731143  1.149967 -0.737184  1.984163  1.970936   \n",
       "1      -0.986117 -1.822254  0.731143  1.149967 -0.627490 -1.128054 -1.052339   \n",
       "2      -1.389644  1.603784  0.731143 -0.722535 -0.737184 -1.128054 -1.052339   \n",
       "3      -0.702241  1.603784  0.731143  1.149967 -0.737184  0.116832  0.133259   \n",
       "4      -1.788478  1.603784 -0.042405 -0.722535 -0.627490 -1.128054 -1.052339   \n",
       "...          ...       ...       ...       ...       ...       ...       ...   \n",
       "315125  1.484308 -1.220228 -1.589500  0.525799 -0.188715 -1.128054 -1.052339   \n",
       "315126  1.484308 -1.220228  0.731143  1.149967 -0.517797  0.739276  0.726058   \n",
       "315127  1.484308 -1.220228 -1.589500 -0.722535 -0.408103 -1.128054 -1.052339   \n",
       "315128  1.484308 -1.220228  0.731143  1.149967 -0.627490  0.739276  0.726058   \n",
       "315129  1.484308 -1.220228 -0.042405  1.149967 -0.408103  0.116832  0.133259   \n",
       "\n",
       "               7         8  \n",
       "0      -1.568185  1.568185  \n",
       "1       0.637680 -0.637680  \n",
       "2       0.637680 -0.637680  \n",
       "3       0.637680 -0.637680  \n",
       "4       0.637680 -0.637680  \n",
       "...          ...       ...  \n",
       "315125  0.637680 -0.637680  \n",
       "315126  0.637680 -0.637680  \n",
       "315127  0.637680 -0.637680  \n",
       "315128 -1.568185  1.568185  \n",
       "315129  0.637680 -0.637680  \n",
       "\n",
       "[315130 rows x 9 columns]"
      ]
     },
     "execution_count": 41,
     "metadata": {},
     "output_type": "execute_result"
    }
   ],
   "source": [
    "X"
   ]
  },
  {
   "cell_type": "markdown",
   "metadata": {},
   "source": [
    "Splitting into training and test set"
   ]
  },
  {
   "cell_type": "code",
   "execution_count": 42,
   "metadata": {},
   "outputs": [],
   "source": [
    "from sklearn.model_selection import train_test_split\n",
    "\n"
   ]
  },
  {
   "cell_type": "code",
   "execution_count": 43,
   "metadata": {},
   "outputs": [],
   "source": [
    "X_train,X_test,y_train,y_test=train_test_split(X,y,test_size=0.25,random_state=42)"
   ]
  },
  {
   "cell_type": "code",
   "execution_count": null,
   "metadata": {},
   "outputs": [],
   "source": [
    "##from sklearn.decomposition import PCA\n",
    "#Make an instance of the Model\n",
    "##pca = PCA(.95)"
   ]
  },
  {
   "cell_type": "code",
   "execution_count": null,
   "metadata": {},
   "outputs": [],
   "source": [
    "##pca.fit(X_train)"
   ]
  },
  {
   "cell_type": "code",
   "execution_count": null,
   "metadata": {},
   "outputs": [],
   "source": [
    "##X_train = pca.transform(X_train)\n",
    "##X_test = pca.transform(X_test)"
   ]
  },
  {
   "cell_type": "code",
   "execution_count": null,
   "metadata": {},
   "outputs": [],
   "source": [
    "##X_train=pd.DataFrame(X_train)\n",
    "##X_test=pd.DataFrame(X_test)"
   ]
  },
  {
   "cell_type": "code",
   "execution_count": null,
   "metadata": {},
   "outputs": [],
   "source": [
    "##Logistic Regression\n",
    "##from sklearn.linear_model import LogisticRegression\n",
    "##logit=LogisticRegression(solver='lbfgs')\n",
    "##logit.fit(X_train,y_train)\n",
    "##y_pred3=logit.predict(X_test)"
   ]
  },
  {
   "cell_type": "markdown",
   "metadata": {},
   "source": [
    "Model formation"
   ]
  },
  {
   "cell_type": "code",
   "execution_count": 43,
   "metadata": {},
   "outputs": [
    {
     "data": {
      "text/plain": [
       "RandomForestClassifier(max_depth=10, n_estimators=1000)"
      ]
     },
     "execution_count": 43,
     "metadata": {},
     "output_type": "execute_result"
    }
   ],
   "source": [
    "##Random Forest\n",
    "from sklearn.ensemble import RandomForestClassifier\n",
    "rf_model=RandomForestClassifier(n_estimators=1000,max_depth=10)\n",
    "rf_model.fit(X_train,y_train)\n",
    "\n",
    "\n"
   ]
  },
  {
   "cell_type": "code",
   "execution_count": 44,
   "metadata": {},
   "outputs": [],
   "source": [
    "y_pred3=rf_model.predict(X_test)"
   ]
  },
  {
   "cell_type": "code",
   "execution_count": 43,
   "metadata": {},
   "outputs": [],
   "source": [
    "from sklearn.metrics import precision_score,f1_score,recall_score,accuracy_score\n",
    "  "
   ]
  },
  {
   "cell_type": "code",
   "execution_count": 52,
   "metadata": {},
   "outputs": [
    {
     "name": "stdout",
     "output_type": "stream",
     "text": [
      "Accuracy score is  0.5088026604724369\n",
      "f1 score is  0.5088026604724369\n",
      "Recall score is  0.5088026604724369\n",
      "pres score is  0.8530135857821807\n"
     ]
    }
   ],
   "source": [
    "print('Accuracy score is ',accuracy_score(y_pred3,y_test))\n",
    "print('f1 score is ',f1_score(y_pred3,y_test,average='micro'))\n",
    "print('Recall score is ',recall_score(y_pred3,y_test,average='weighted',zero_division=1))\n",
    "print('pres score is ',precision_score(y_pred3,y_test,average='weighted',zero_division=1))\n"
   ]
  },
  {
   "cell_type": "code",
   "execution_count": 53,
   "metadata": {},
   "outputs": [],
   "source": [
    "Feature_import=pd.Series(rf_model.feature_importances_,index=X.columns).sort_values(ascending=False)*100"
   ]
  },
  {
   "cell_type": "code",
   "execution_count": 54,
   "metadata": {},
   "outputs": [
    {
     "data": {
      "text/plain": [
       "1    54.901721\n",
       "0    35.929911\n",
       "4     2.902638\n",
       "6     1.894985\n",
       "5     1.805186\n",
       "3     0.974507\n",
       "8     0.540549\n",
       "2     0.532592\n",
       "7     0.517911\n",
       "dtype: float64"
      ]
     },
     "execution_count": 54,
     "metadata": {},
     "output_type": "execute_result"
    }
   ],
   "source": [
    "Feature_import"
   ]
  },
  {
   "cell_type": "code",
   "execution_count": 55,
   "metadata": {},
   "outputs": [
    {
     "data": {
      "text/plain": [
       "DecisionTreeClassifier(class_weight='balanced', min_samples_leaf=3,\n",
       "                       random_state=42)"
      ]
     },
     "execution_count": 55,
     "metadata": {},
     "output_type": "execute_result"
    }
   ],
   "source": [
    "## Decision Tree\n",
    "from sklearn.tree import DecisionTreeClassifier\n",
    "d_tree=DecisionTreeClassifier(criterion='gini',min_samples_split=2,min_samples_leaf=3,class_weight='balanced',random_state=42,splitter='best')\n",
    "d_tree.fit(X_train,y_train)"
   ]
  },
  {
   "cell_type": "code",
   "execution_count": 56,
   "metadata": {},
   "outputs": [],
   "source": [
    "y_pred4=d_tree.predict(X_test)"
   ]
  },
  {
   "cell_type": "code",
   "execution_count": 57,
   "metadata": {},
   "outputs": [
    {
     "name": "stdout",
     "output_type": "stream",
     "text": [
      "Accuracy score is  0.9814173108411713\n",
      "f1 score is  0.9814173108411713\n",
      "Recall score is  0.9814173108411713\n",
      "pres score is  0.9831853285318358\n"
     ]
    }
   ],
   "source": [
    "print('Accuracy score is ',accuracy_score(y_pred4,y_test))\n",
    "print('f1 score is ',f1_score(y_pred4,y_test,average='micro'))\n",
    "print('Recall score is ',recall_score(y_pred4,y_test,average='weighted',zero_division=1))\n",
    "print('pres score is ',precision_score(y_pred4,y_test,average='weighted',zero_division=1))"
   ]
  },
  {
   "cell_type": "code",
   "execution_count": 59,
   "metadata": {},
   "outputs": [],
   "source": [
    "from sklearn.neighbors import KNeighborsClassifier\n",
    "acc_value=[] \n",
    "neighbor= np.arange(2,10,1)\n",
    "for k in neighbor:\n",
    "  knn_model=KNeighborsClassifier(n_neighbors=k,metric='minkowski')\n",
    "  knn_model.fit(X_train,y_train)\n",
    "  y_pred=knn_model.predict(X_test)\n",
    "  acc=accuracy_score(y_pred,y_test)\n",
    "  acc_value.append(acc)"
   ]
  },
  {
   "cell_type": "code",
   "execution_count": 60,
   "metadata": {},
   "outputs": [
    {
     "data": {
      "image/png": "[encoded data removed]",
      "text/plain": [
       "<Figure size 432x288 with 1 Axes>"
      ]
     },
     "metadata": {},
     "output_type": "display_data"
    }
   ],
   "source": [
    "plt.plot(neighbor,acc_value,'o-')\n",
    "plt.show()"
   ]
  },
  {
   "cell_type": "code",
   "execution_count": 61,
   "metadata": {},
   "outputs": [
    {
     "data": {
      "text/plain": [
       "KNeighborsClassifier(n_neighbors=2, weights='distance')"
      ]
     },
     "execution_count": 61,
     "metadata": {},
     "output_type": "execute_result"
    }
   ],
   "source": [
    "from sklearn.neighbors import KNeighborsClassifier\n",
    "knn=KNeighborsClassifier(n_neighbors=2,weights='distance',metric='minkowski')\n",
    "knn.fit(X_train,y_train)"
   ]
  },
  {
   "cell_type": "code",
   "execution_count": 62,
   "metadata": {},
   "outputs": [],
   "source": [
    "y_pred7=knn.predict(X_test)"
   ]
  },
  {
   "cell_type": "code",
   "execution_count": 63,
   "metadata": {},
   "outputs": [
    {
     "name": "stdout",
     "output_type": "stream",
     "text": [
      "Accuracy score is  0.4734016221773733\n",
      "f1 score is  0.4734016221773733\n",
      "Recall score is  0.4734016221773733\n",
      "pres score is  0.5061862375932735\n"
     ]
    }
   ],
   "source": [
    "print('Accuracy score is ',accuracy_score(y_pred7,y_test))\n",
    "print('f1 score is ',f1_score(y_pred7,y_test,average='micro'))\n",
    "print('Recall score is ',recall_score(y_pred7,y_test,average='weighted',zero_division=1))\n",
    "print('pres score is ',precision_score(y_pred7,y_test,average='weighted',zero_division=1))"
   ]
  },
  {
   "cell_type": "code",
   "execution_count": null,
   "metadata": {},
   "outputs": [],
   "source": [
    "#SVM\n",
    "from sklearn.svm import SVC\n",
    "sv=SVC(kernel='rbf', degree=3,class_weight='balanced')\n",
    "sv.fit(X_train,y_train) \n"
   ]
  },
  {
   "cell_type": "code",
   "execution_count": null,
   "metadata": {},
   "outputs": [],
   "source": [
    "y_pred8=sv.predict(X_test)"
   ]
  },
  {
   "cell_type": "code",
   "execution_count": null,
   "metadata": {},
   "outputs": [],
   "source": [
    "print('Accuracy score is ',accuracy_score(y_pred7,y_test))\n",
    "print('f1 score is ',f1_score(y_pred7,y_test,average='micro'))\n",
    "print('Recall score is ',recall_score(y_pred7,y_test,average='weighted',zero_division=1))\n",
    "print('pres score is ',precision_score(y_pred7,y_test,average='weighted',zero_division=1))"
   ]
  },
  {
   "cell_type": "code",
   "execution_count": null,
   "metadata": {},
   "outputs": [],
   "source": []
  }
 ],
 "metadata": {
  "kernelspec": {
   "display_name": "Python 3",
   "language": "python",
   "name": "python3"
  },
  "language_info": {
   "codemirror_mode": {
    "name": "ipython",
    "version": 3
   },
   "file_extension": ".py",
   "mimetype": "text/x-python",
   "name": "python",
   "nbconvert_exporter": "python",
   "pygments_lexer": "ipython3",
   "version": "3.8.8"
  }
 },
 "nbformat": 4,
 "nbformat_minor": 4
}
